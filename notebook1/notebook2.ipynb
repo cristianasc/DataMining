{
 "cells": [
  {
   "cell_type": "markdown",
   "metadata": {},
   "source": [
    "# Task C\n",
    "\n",
    "On this notebook, we have the complete code that is also on notebook1. On notebook1 it is explained in detail, but here only the code is shown.\n",
    "\n",
    "We were tasked with evaluating the performance of the learning algorithms used on one of the datasets. The dataset chosen for the evaluation was \"Credit Card Data\".\n",
    "\n",
    "We made a K-fold cross-validation for estimating the performance of the learning algorithms:\n",
    "* Support Vector Machine with rbf kernel\n",
    "* Multilayer Perceptron\n",
    "\n",
    "After this evaluation, we will compile the results and discuss them."
   ]
  },
  {
   "cell_type": "code",
   "execution_count": null,
   "metadata": {},
   "outputs": [],
   "source": [
    "from sklearn.metrics import mean_squared_error, r2_score, accuracy_score\n",
    "from sklearn.model_selection import cross_val_score\n",
    "\n",
    "\n",
    "def evaluate(model, x_train, y_train):\n",
    "\n",
    "    predicted_data = model.predict(x_train)\n",
    "\n",
    "    print(\"Score CV - test set:\", cross_val_score(model,x_train, y_train, cv=10).mean())\n",
    "    print(\"Mean squared error - training set:\", mean_squared_error(y_train, predicted_data))\n",
    "    print(\"Coefficient of determination - training set:\", r2_score(y_train, predicted_data))\n",
    "    print(\"Accuracy - training set:\", accuracy_score(y_train, predicted_data))\n",
    "    print(\"Cross_validation_evaluate: \", cross_val_score(model,x_train,y_train,cv=4))\n",
    "\n",
    "# Evaluate the model\n",
    "print(\"Evaluate model SVM\\n\")\n",
    "evaluate(svm, X_train_pca, y_train)\n",
    "\n",
    "# Evaluate the model\n",
    "print(\"Evaluate model MLP\\n\")\n",
    "evaluate(mlp, X_train_pca, y_train)\n",
    "\n",
    "from sklearn.model_selection import KFold\n",
    "\n",
    "kf = KFold(n_splits=4, shuffle=True)\n",
    "\n",
    "for train, test in kf.split(X_train_pca):\n",
    "    print(\"%s %s\" % (train, test))"
   ]
  }
 ],
 "metadata": {
  "kernelspec": {
   "display_name": "Python 3",
   "language": "python",
   "name": "python3"
  },
  "language_info": {
   "codemirror_mode": {
    "name": "ipython",
    "version": 2
   },
   "file_extension": ".py",
   "mimetype": "text/x-python",
   "name": "python",
   "nbconvert_exporter": "python",
   "pygments_lexer": "ipython2",
   "version": "2.7.15rc1"
  }
 },
 "nbformat": 4,
 "nbformat_minor": 2
}

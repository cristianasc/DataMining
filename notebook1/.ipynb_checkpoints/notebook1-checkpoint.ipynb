{
 "cells": [
  {
   "cell_type": "markdown",
   "metadata": {},
   "source": [
    "# Task A\n"
   ]
  },
  {
   "cell_type": "code",
   "execution_count": 121,
   "metadata": {},
   "outputs": [],
   "source": [
    "#numeric\n",
    "import numpy as np\n",
    "import pandas as pd\n",
    "import xlrd\n",
    "from pandas import DataFrame, read_csv\n",
    "# graphics\n",
    "%matplotlib inline \n",
    "import matplotlib.pyplot as plt \n",
    "import matplotlib.gridspec as gridspec\n",
    "#Disable warning\n",
    "import warnings\n",
    "warnings.filterwarnings(\"ignore\", category=FutureWarning)\n",
    "warnings.filterwarnings(\"ignore\", category=DeprecationWarning)\n",
    "from sklearn.exceptions import DataConversionWarning\n",
    "warnings.filterwarnings(action='ignore', category=DataConversionWarning)\n",
    "# Added version check for recent scikit-learn 0.18 checks\n",
    "from distutils.version import LooseVersion as Version\n",
    "from sklearn import __version__ as sklearn_version"
   ]
  },
  {
   "cell_type": "markdown",
   "metadata": {},
   "source": [
    "## Credit Card Data"
   ]
  },
  {
   "cell_type": "markdown",
   "metadata": {},
   "source": [
    "\n",
    "### Build table\n",
    "\n",
    "\n"
   ]
  },
  {
   "cell_type": "code",
   "execution_count": 159,
   "metadata": {
    "scrolled": true
   },
   "outputs": [],
   "source": [
    "df = pd.read_excel('default_credit_card_clients.xls')\n",
    "#dar nomes às colunas\n",
    "df.columns = ['LIMIT_BAL', 'SEX', 'EDUCATION', 'MARRIAGE', 'AGE', 'PAY_0', 'PAY_2', 'PAY_3', 'PAY_4', \n",
    "              'PAY_5', 'PAY_6', 'BILL_AMT1', 'BILL_AMT2', 'BILL_AMT3', 'BILL_AMT4', 'BILL_AMT5', 'BILL_AMT6',\n",
    "              'PAY_AMT1', 'PAY_AMT2', 'PAY_AMT3', 'PAY_AMT4', 'PAY_AMT5', 'PAY_AMT6', 'default payment next month']\n",
    "\n",
    "df = df.drop(['ID'])"
   ]
  },
  {
   "cell_type": "markdown",
   "metadata": {},
   "source": [
    "\n",
    "### Rank features (Univariate Feature Selection)\n",
    "\n",
    "\n"
   ]
  },
  {
   "cell_type": "code",
   "execution_count": 177,
   "metadata": {},
   "outputs": [
    {
     "name": "stdout",
     "output_type": "stream",
     "text": [
      "(30000, 23)\n",
      "Scores of each feature: \n",
      "[  4.798e+01   2.355e+01   1.778e+01   5.789e+00   3.538e+03   2.239e+03\n",
      "   1.757e+03   1.477e+03   1.305e+03   1.085e+03   1.158e+01   6.044e+00\n",
      "   5.944e+00   3.095e+00   1.371e+00   8.658e-01   1.604e+02   1.033e+02\n",
      "   9.522e+01   9.719e+01   9.143e+01   8.509e+01         inf]\n",
      "\n",
      "Selected features: \n",
      "[[2 2 -1 1]\n",
      " [-1 2 0 1]\n",
      " [0 0 0 0]\n",
      " ..., \n",
      " [4 3 2 1]\n",
      " [1 -1 0 1]\n",
      " [0 0 0 1]]\n"
     ]
    },
    {
     "name": "stderr",
     "output_type": "stream",
     "text": [
      "/usr/local/lib/python3.6/site-packages/sklearn/feature_selection/univariate_selection.py:115: RuntimeWarning: divide by zero encountered in true_divide\n",
      "  f = msb / msw\n"
     ]
    }
   ],
   "source": [
    "from sklearn.feature_selection import SelectKBest\n",
    "from sklearn.feature_selection import chi2, mutual_info_classif, , f_classif\n",
    "import numpy\n",
    "\n",
    "if Version(sklearn_version) < '0.18':\n",
    "    from sklearn.cross_validation import train_test_split\n",
    "else:\n",
    "    from sklearn.model_selection import train_test_split\n",
    "    \n",
    "y=df.as_matrix(columns=[df.columns[23]])\n",
    "\n",
    "# features\n",
    "\n",
    "X=df.as_matrix(columns=df.columns[1:])\n",
    "print(X.shape)\n",
    "\n",
    "#feature extraction\n",
    "#k=Number of top features to select\n",
    "test = SelectKBest(f_classif, k=4)\n",
    "fit = test.fit(X, y)\n",
    "\n",
    "# print summarized scores\n",
    "numpy.set_printoptions(precision=3)\n",
    "print(\"Scores of each feature: \")\n",
    "print(fit.scores_)\n",
    "\n",
    "features = fit.transform(X)\n",
    "\n",
    "# print the selected features (age,fnlwgt,capital-gain,capital-loss(?))\n",
    "print(\"\\nSelected features: \")\n",
    "print(features)\n",
    "#print(features[0:5,:])"
   ]
  },
  {
   "cell_type": "markdown",
   "metadata": {},
   "source": [
    "\n",
    "### Perform dimension reduction (PCA)\n",
    "\n",
    "\n"
   ]
  },
  {
   "cell_type": "code",
   "execution_count": 161,
   "metadata": {},
   "outputs": [],
   "source": [
    "X_train, X_test, y_train, y_test = \\\n",
    "    train_test_split(X, y, test_size=0.3, random_state=0)"
   ]
  },
  {
   "cell_type": "code",
   "execution_count": 162,
   "metadata": {},
   "outputs": [],
   "source": [
    "from sklearn.preprocessing import StandardScaler\n",
    "sc = StandardScaler()\n",
    "X_train_std = sc.fit_transform(X_train)\n",
    "X_test_std = sc.transform(X_test)"
   ]
  },
  {
   "cell_type": "code",
   "execution_count": 163,
   "metadata": {},
   "outputs": [],
   "source": [
    "from sklearn.decomposition import PCA \n",
    "pca = PCA()\n",
    "X_train_pca = pca.fit_transform(X_train_std)\n",
    "X_test_pca = pca.transform(X_test_std)\n",
    "#pca.explained_variance_ratio_"
   ]
  },
  {
   "cell_type": "code",
   "execution_count": 164,
   "metadata": {},
   "outputs": [
    {
     "data": {
      "image/png": "[encoded data removed]",
      "text/plain": [
       "<Figure size 432x288 with 1 Axes>"
      ]
     },
     "metadata": {
      "needs_background": "light"
     },
     "output_type": "display_data"
    }
   ],
   "source": [
    "plt.bar(range(23), pca.explained_variance_ratio_, alpha=0.5, align='edge') \n",
    "plt.step(range(23), np.cumsum(pca.explained_variance_ratio_), where='mid') \n",
    "plt.ylabel('Explained variance ratio')\n",
    "plt.xlabel('Principal components')\n",
    "plt.show() "
   ]
  },
  {
   "cell_type": "code",
   "execution_count": 165,
   "metadata": {},
   "outputs": [],
   "source": [
    "# Only two components for illustration\n",
    "#pca = PCA(n_components=2)\n",
    "#X_train_pca = pca.fit_transform(X_train_std)\n",
    "#X_test_pca = pca.transform(X_test_std)"
   ]
  },
  {
   "cell_type": "code",
   "execution_count": 166,
   "metadata": {},
   "outputs": [
    {
     "name": "stdout",
     "output_type": "stream",
     "text": [
      "[[ -3.53409676e+00   2.12185538e+00  -5.44146169e-01 ...,   2.23887458e-02\n",
      "    5.86844157e-03   1.05277093e-02]\n",
      " [  4.83273511e-01  -2.06402276e+00  -1.08539197e-01 ...,  -4.05955848e-04\n",
      "    1.87055894e-03  -3.06229537e-03]\n",
      " [ -2.54221547e+00   3.18578613e+00   8.64313905e-01 ...,   6.55254581e-02\n",
      "   -2.11691826e-01   1.04430282e-01]\n",
      " ..., \n",
      " [  7.84921373e-01  -6.85204716e-01  -7.48302208e-01 ...,   3.72511846e-02\n",
      "    5.52277755e-02  -4.33163755e-02]\n",
      " [ -4.90437524e-01  -7.73201711e-01  -5.26615572e-01 ...,   2.71280134e-01\n",
      "    1.92537960e-02  -8.61096827e-02]\n",
      " [ -5.36042593e-01  -6.28157300e-01   6.76261148e-01 ...,   2.50916582e-02\n",
      "   -4.66328711e-03   5.68898677e-03]]\n"
     ]
    },
    {
     "data": {
      "image/png": "[encoded data removed]",
      "text/plain": [
       "<Figure size 720x360 with 2 Axes>"
      ]
     },
     "metadata": {
      "needs_background": "light"
     },
     "output_type": "display_data"
    }
   ],
   "source": [
    "print(X_train_pca)\n",
    "plt.rcParams.update({'font.size': 10})\n",
    "fig, axes = plt.subplots(nrows=1, ncols=2, figsize=(10,5))\n",
    "axes = axes.ravel()\n",
    "ax = axes[0]\n",
    "ax.figure\n",
    "inx=(y_train==1)\n",
    "inx=inx.ravel()\n",
    "ax.scatter(X_train_pca[inx,0],X_train_pca[inx,1],marker='s',color='r',label='Y')\n",
    "\n",
    "inx=(y_train==0)\n",
    "inx=inx.ravel() \n",
    "ax.scatter(X_train_pca[inx,0],X_train_pca[inx,1],marker='o',color='g',label='N') \n",
    "ax.set_title(\"Training set\")\n",
    "ax.set_xlabel('PC 1')\n",
    "ax.set_ylabel('PC 2')\n",
    "ax.legend()\n",
    "ax.grid()\n",
    "\n",
    "\n",
    "ax = axes[1]\n",
    "ax.figure\n",
    "inx=(y_test==1)\n",
    "inx=inx.ravel() \n",
    "ax.scatter(X_test_pca[inx,0],X_test_pca[inx,1],marker='s',color='r',label='Y') \n",
    "inx=(y_test==0)\n",
    "inx=inx.ravel() \n",
    "ax.scatter(X_test_pca[inx,0],X_test_pca[inx,1],marker='o',color='g',label='N')\n",
    "\n",
    "ax.set_title(\"Test set: data not used to adapt PCA\")\n",
    "\n",
    "ax.legend()\n",
    "ax.grid()\n",
    "plt.xlabel('PC 1')\n",
    "plt.ylabel('PC 2')\n",
    "plt.show()"
   ]
  },
  {
   "cell_type": "markdown",
   "metadata": {},
   "source": [
    "## Adult Dataset"
   ]
  },
  {
   "cell_type": "code",
   "execution_count": 167,
   "metadata": {},
   "outputs": [],
   "source": [
    "#numeric\n",
    "import numpy as np\n",
    "import pandas as pd\n",
    "import xlrd\n",
    "from pandas import DataFrame, read_csv\n",
    "# graphics\n",
    "%matplotlib inline \n",
    "import matplotlib.pyplot as plt \n",
    "import matplotlib.gridspec as gridspec\n",
    "#Disable warning\n",
    "import warnings\n",
    "warnings.filterwarnings(\"ignore\", category=FutureWarning)\n",
    "warnings.filterwarnings(\"ignore\", category=DeprecationWarning)\n",
    "from sklearn.exceptions import DataConversionWarning\n",
    "warnings.filterwarnings(action='ignore', category=DataConversionWarning)\n",
    "# Added version check for recent scikit-learn 0.18 checks\n",
    "from distutils.version import LooseVersion as Version\n",
    "from sklearn import __version__ as sklearn_version"
   ]
  },
  {
   "cell_type": "markdown",
   "metadata": {},
   "source": [
    "\n",
    "### Build table\n",
    "\n",
    "\n"
   ]
  },
  {
   "cell_type": "code",
   "execution_count": 168,
   "metadata": {
    "scrolled": true
   },
   "outputs": [
    {
     "name": "stdout",
     "output_type": "stream",
     "text": [
      "<class 'pandas.core.frame.DataFrame'>\n",
      "RangeIndex: 32561 entries, 0 to 32560\n",
      "Data columns (total 15 columns):\n",
      "age                  32561 non-null int64\n",
      "workclass            32561 non-null object\n",
      "fnlwgt               32561 non-null int64\n",
      "education            32561 non-null object\n",
      "education-num        32561 non-null int64\n",
      "marital-status       32561 non-null object\n",
      "occupation           32561 non-null object\n",
      "relationship         32561 non-null object\n",
      "race                 32561 non-null object\n",
      "sex                  32561 non-null object\n",
      "capital-gain         32561 non-null int64\n",
      "capital-loss         32561 non-null int64\n",
      "hours-per-week       32561 non-null int64\n",
      "native-country       32561 non-null object\n",
      "probability-label    32561 non-null object\n",
      "dtypes: int64(6), object(9)\n",
      "memory usage: 3.7+ MB\n"
     ]
    }
   ],
   "source": [
    "#df = data\n",
    "data = pd.read_csv('adult.data.txt', delimiter=\", \", header=None, engine='python')\n",
    "#dar nomes às colunas\n",
    "data.columns = [\"age\", \"workclass\", \"fnlwgt\", \"education\", \"education-num\", \\\n",
    "                \"marital-status\" ,\"occupation\", \"relationship\", \"race\", \"sex\" ,\\\n",
    "                \"capital-gain\", \"capital-loss\", \"hours-per-week\", \"native-country\", \\\n",
    "                \"probability-label\"]\n",
    "\n",
    "#show all features\n",
    "data.info()"
   ]
  },
  {
   "cell_type": "markdown",
   "metadata": {},
   "source": [
    "### Mapping categorical data into numeric data\n"
   ]
  },
  {
   "cell_type": "code",
   "execution_count": 169,
   "metadata": {},
   "outputs": [],
   "source": [
    "workclass_map = {'Private': 1,'Self-emp-not-inc': 2,'Self-emp-inc': 3,'Federal-gov': 4,'Local-gov': 5,\n",
    "                               'State-gov': 6,'Without-pay': 7,'Never-worked': 8}\n",
    "\n",
    "education_map = {'Bachelors': 1,'Some-college': 2,'11th': 3,'HS-grad': 4,'Prof-school': 5,\n",
    "                                 'Assoc-acdm': 6,'Assoc-voc': 7,'9th': 8,'7th-8th': 9,'12th': 10,'Masters': 11,\n",
    "                                 '1st-4th': 12,'10th': 13,'Doctorate': 14,'5th-6th': 15,'Preschool': 16}\n",
    "\n",
    "marital_map = {'Married-civ-spouse': 1,'Divorced': 2,'Never-married': 3,'Separated': 4,\n",
    "                                   'Widowed': 5,'Married-spouse-absent': 6,'Married-AF-spouse': 7}\n",
    "\n",
    "occupation_map = {'Tech-support': 1,'Craft-repair': 2,'Other-service': 3,'Sales': 4,\n",
    "                                'Exec-managerial': 5,'Prof-specialty': 6,'Handlers-cleaners': 7,\n",
    "                                'Machine-op-inspct': 8,'Adm-clerical': 9,'Farming-fishing': 10,\n",
    "                                'Transport-moving': 11,'Priv-house-serv': 12,'Protective-serv': 13,\n",
    "                                'Armed-Forces': 14}\n",
    "\n",
    "relationship_map = {'Wife': 1,'Own-child': 2,'Husband': 3,'Not-in-family': 4,\n",
    "                                      'Other-relative': 5,'Unmarried': 6}\n",
    "\n",
    "race_map = {'White': 1,'Asian-Pac-Islander': 2,'Amer-Indian-Eskimo': 3,'Other': 4,'Black': 5}\n",
    "\n",
    "sex_map = {'Female': 1,'Male': 2}\n",
    "\n",
    "country_map = {'United-States': 1,'Cambodia': 2,'England': 3,'Puerto-Rico': 4,\n",
    "                                   'Canada': 5,'Germany': 6,'Outlying-US(Guam-USVI-etc)': 7,'India': 8,\n",
    "                                   'Japan': 9,'Greece': 10,'South': 11,'China': 12,'Cuba': 13,'Iran': 14,\n",
    "                                   'Honduras': 15,'Philippines': 16,'Italy': 17,'Poland': 18,'Jamaica': 19,\n",
    "                                   'Vietnam': 20,'Mexico': 21,'Portugal': 22,'Ireland': 23,'France': 24,\n",
    "                                   'Dominican-Republic': 25,'Laos': 26,'Ecuador': 27,'Taiwan': 28,'Haiti': 29,\n",
    "                                   'Columbia': 30,'Hungary': 31,'Guatemala': 32,'Nicaragua': 33,'Scotland': 34,\n",
    "                                   'Thailand': 35,'Yugoslavia': 36,'El-Salvador': 37,'Trinadad&Tobago': 38,\n",
    "                                   'Peru': 39,'Hong': 40,'Holand-Netherlands': 41}\n",
    "\n",
    "probability_map = {'<=50K': 1, '>50K' : 2}\n",
    "\n",
    "data['workclass'] = data['workclass'].map(workclass_map)\n",
    "data['education'] = data['education'].map(education_map)\n",
    "data['marital-status'] = data['marital-status'].map(marital_map)\n",
    "data['occupation'] = data['occupation'].map(occupation_map)\n",
    "data['relationship'] = data['relationship'].map(relationship_map)\n",
    "data['race'] = data['race'].map(race_map)\n",
    "data['sex'] = data['sex'].map(sex_map)\n",
    "data['native-country'] = data['native-country'].map(country_map)\n",
    "data['probability-label'] = data['probability-label'].map(probability_map)"
   ]
  },
  {
   "cell_type": "code",
   "execution_count": 170,
   "metadata": {
    "scrolled": true
   },
   "outputs": [],
   "source": [
    "#Drop rows with NaN\n",
    "#data.dropna(thresh=16)\n",
    "\n",
    "data = data.dropna(how=\"any\")\n",
    "\n",
    "#data = data[data.age != '?']"
   ]
  },
  {
   "cell_type": "markdown",
   "metadata": {},
   "source": [
    "### Rank features (Univariate Feature Selection)"
   ]
  },
  {
   "cell_type": "code",
   "execution_count": 171,
   "metadata": {
    "scrolled": true
   },
   "outputs": [
    {
     "name": "stdout",
     "output_type": "stream",
     "text": [
      "Scores of each feature: \n",
      "[  7.928e+03   2.723e+02   1.423e+05   7.424e+00   2.178e+03   2.888e+03\n",
      "   9.492e+01   4.313e+02   2.759e+02   1.852e+02   7.413e+07   1.256e+06\n",
      "   5.569e+03   1.349e+03   4.515e+03]\n",
      "\n",
      "Selected features: \n",
      "[[  3.900e+01   7.752e+04   2.174e+03   0.000e+00]\n",
      " [  5.000e+01   8.331e+04   0.000e+00   0.000e+00]\n",
      " [  3.800e+01   2.156e+05   0.000e+00   0.000e+00]\n",
      " ..., \n",
      " [  5.800e+01   1.519e+05   0.000e+00   0.000e+00]\n",
      " [  2.200e+01   2.015e+05   0.000e+00   0.000e+00]\n",
      " [  5.200e+01   2.879e+05   1.502e+04   0.000e+00]]\n"
     ]
    }
   ],
   "source": [
    "from sklearn.feature_selection import SelectKBest\n",
    "from sklearn.feature_selection import chi2, mutual_info_classif\n",
    "import numpy\n",
    "\n",
    "array = data.values\n",
    "\n",
    "X2 = array[:,0:15]\n",
    "Y2 = array[:,14]\n",
    "\n",
    "#print(X2)\n",
    "#print(\"\\n\")\n",
    "#print(Y2)\n",
    "#feature extraction\n",
    "#k=Number of top features to select\n",
    "test = SelectKBest(score_func=chi2, k=4)\n",
    "fit = test.fit(X2, Y2)\n",
    "\n",
    "# print summarized scores\n",
    "numpy.set_printoptions(precision=3)\n",
    "print(\"Scores of each feature: \")\n",
    "print(fit.scores_)\n",
    "\n",
    "features = fit.transform(X2)\n",
    "\n",
    "# print the selected features (age,fnlwgt,capital-gain,capital-loss(?))\n",
    "print(\"\\nSelected features: \")\n",
    "print(features)\n",
    "#print(features[0:5,:])\n"
   ]
  },
  {
   "cell_type": "markdown",
   "metadata": {},
   "source": [
    "\n"
   ]
  },
  {
   "cell_type": "markdown",
   "metadata": {},
   "source": [
    "### Perform dimension reduction (PCA)"
   ]
  },
  {
   "cell_type": "code",
   "execution_count": 172,
   "metadata": {},
   "outputs": [],
   "source": [
    "from distutils.version import LooseVersion as Version\n",
    "from sklearn import __version__ as sklearn_version"
   ]
  },
  {
   "cell_type": "code",
   "execution_count": null,
   "metadata": {},
   "outputs": [],
   "source": []
  },
  {
   "cell_type": "code",
   "execution_count": null,
   "metadata": {},
   "outputs": [],
   "source": []
  },
  {
   "cell_type": "code",
   "execution_count": null,
   "metadata": {},
   "outputs": [],
   "source": []
  }
 ],
 "metadata": {
  "kernelspec": {
   "display_name": "Python 3",
   "language": "python",
   "name": "python3"
  },
  "language_info": {
   "codemirror_mode": {
    "name": "ipython",
    "version": 3
   },
   "file_extension": ".py",
   "mimetype": "text/x-python",
   "name": "python",
   "nbconvert_exporter": "python",
   "pygments_lexer": "ipython3",
   "version": "3.6.5"
  }
 },
 "nbformat": 4,
 "nbformat_minor": 2
}

{
 "cells": [
  {
   "cell_type": "markdown",
   "metadata": {},
   "source": [
    "# Task A\n"
   ]
  },
  {
   "cell_type": "code",
   "execution_count": 388,
   "metadata": {},
   "outputs": [],
   "source": [
    "#numeric\n",
    "import numpy as np\n",
    "import pandas as pd\n",
    "import xlrd\n",
    "from pandas import DataFrame, read_csv\n",
    "# graphics\n",
    "%matplotlib inline \n",
    "import matplotlib.pyplot as plt \n",
    "import matplotlib.gridspec as gridspec\n",
    "#Disable warning\n",
    "import warnings\n",
    "warnings.filterwarnings(\"ignore\", category=FutureWarning)\n",
    "warnings.filterwarnings(\"ignore\", category=DeprecationWarning)\n",
    "from sklearn.exceptions import DataConversionWarning\n",
    "warnings.filterwarnings(action='ignore', category=DataConversionWarning)\n",
    "# Added version check for recent scikit-learn 0.18 checks\n",
    "from distutils.version import LooseVersion as Version\n",
    "from sklearn import __version__ as sklearn_version"
   ]
  },
  {
   "cell_type": "markdown",
   "metadata": {},
   "source": [
    "## Credit Card Data"
   ]
  },
  {
   "cell_type": "markdown",
   "metadata": {},
   "source": [
    "\n",
    "### Build table\n",
    "\n",
    "\n"
   ]
  },
  {
   "cell_type": "code",
   "execution_count": 389,
   "metadata": {
    "scrolled": true
   },
   "outputs": [],
   "source": [
    "df = pd.read_excel('default_credit_card_clients.xls')\n",
    "#dar nomes às colunas\n",
    "df.columns = ['LIMIT_BAL', 'SEX', 'EDUCATION', 'MARRIAGE', 'AGE', 'PAY_0', 'PAY_2', 'PAY_3', 'PAY_4', \n",
    "              'PAY_5', 'PAY_6', 'BILL_AMT1', 'BILL_AMT2', 'BILL_AMT3', 'BILL_AMT4', 'BILL_AMT5', 'BILL_AMT6',\n",
    "              'PAY_AMT1', 'PAY_AMT2', 'PAY_AMT3', 'PAY_AMT4', 'PAY_AMT5', 'PAY_AMT6', 'default payment next month']\n",
    "\n",
    "df = df.drop(['ID'])"
   ]
  },
  {
   "cell_type": "markdown",
   "metadata": {},
   "source": [
    "\n",
    "### Rank features (Univariate Feature Selection)\n",
    "\n",
    "\n"
   ]
  },
  {
   "cell_type": "code",
   "execution_count": 390,
   "metadata": {},
   "outputs": [
    {
     "name": "stdout",
     "output_type": "stream",
     "text": [
      "(30000, 23)\n",
      "Scores of each feature: \n",
      "[  4.798e+01   2.355e+01   1.778e+01   5.789e+00   3.538e+03   2.239e+03\n",
      "   1.757e+03   1.477e+03   1.305e+03   1.085e+03   1.158e+01   6.044e+00\n",
      "   5.944e+00   3.095e+00   1.371e+00   8.658e-01   1.604e+02   1.033e+02\n",
      "   9.522e+01   9.719e+01   9.143e+01   8.509e+01         inf]\n",
      "\n",
      "Selected features: \n",
      "[[2 2 -1 1]\n",
      " [-1 2 0 1]\n",
      " [0 0 0 0]\n",
      " ..., \n",
      " [4 3 2 1]\n",
      " [1 -1 0 1]\n",
      " [0 0 0 1]]\n"
     ]
    },
    {
     "name": "stderr",
     "output_type": "stream",
     "text": [
      "/usr/local/lib/python3.6/site-packages/sklearn/feature_selection/univariate_selection.py:115: RuntimeWarning: divide by zero encountered in true_divide\n",
      "  f = msb / msw\n"
     ]
    }
   ],
   "source": [
    "from sklearn.feature_selection import SelectKBest\n",
    "from sklearn.feature_selection import chi2, mutual_info_classif, f_classif\n",
    "import numpy\n",
    "\n",
    "if Version(sklearn_version) < '0.18':\n",
    "    from sklearn.cross_validation import train_test_split\n",
    "else:\n",
    "    from sklearn.model_selection import train_test_split\n",
    "    \n",
    "y=df.as_matrix(columns=[df.columns[23]])\n",
    "\n",
    "# features\n",
    "\n",
    "X=df.as_matrix(columns=df.columns[1:])\n",
    "print(X.shape)\n",
    "\n",
    "#feature extraction\n",
    "#k=Number of top features to select\n",
    "test = SelectKBest(f_classif, k=4)\n",
    "fit = test.fit(X, y)\n",
    "\n",
    "# print summarized scores\n",
    "numpy.set_printoptions(precision=3)\n",
    "print(\"Scores of each feature: \")\n",
    "print(fit.scores_)\n",
    "\n",
    "features = fit.transform(X)\n",
    "\n",
    "# print the selected features (age,fnlwgt,capital-gain,capital-loss(?))\n",
    "print(\"\\nSelected features: \")\n",
    "print(features)\n",
    "#print(features[0:5,:])"
   ]
  },
  {
   "cell_type": "markdown",
   "metadata": {},
   "source": [
    "\n",
    "### Perform dimension reduction (PCA)\n",
    "\n",
    "\n"
   ]
  },
  {
   "cell_type": "code",
   "execution_count": 391,
   "metadata": {},
   "outputs": [],
   "source": [
    "X_train, X_test, y_train, y_test = \\\n",
    "    train_test_split(X, y, test_size=0.3, random_state=0)\n",
    "y_train=y_train.astype('int')\n",
    "y_train= y_train.flatten()\n"
   ]
  },
  {
   "cell_type": "code",
   "execution_count": 392,
   "metadata": {},
   "outputs": [],
   "source": [
    "from sklearn.preprocessing import StandardScaler\n",
    "sc = StandardScaler()\n",
    "X_train_std = sc.fit_transform(X_train)\n",
    "X_test_std = sc.transform(X_test)"
   ]
  },
  {
   "cell_type": "code",
   "execution_count": 393,
   "metadata": {},
   "outputs": [
    {
     "data": {
      "text/plain": [
       "array([ 0.282,  0.168,  0.071,  0.065,  0.045,  0.041,  0.04 ,  0.038,\n",
       "        0.037,  0.037,  0.032,  0.031,  0.028,  0.024,  0.017,  0.011,\n",
       "        0.011,  0.008,  0.006,  0.003,  0.002,  0.001,  0.001])"
      ]
     },
     "execution_count": 393,
     "metadata": {},
     "output_type": "execute_result"
    }
   ],
   "source": [
    "from sklearn.decomposition import PCA \n",
    "pca = PCA()\n",
    "X_train_pca = pca.fit_transform(X_train_std)\n",
    "X_test_pca = pca.transform(X_test_std)\n",
    "pca.explained_variance_ratio_"
   ]
  },
  {
   "cell_type": "code",
   "execution_count": 394,
   "metadata": {},
   "outputs": [
    {
     "data": {
      "image/png": "[encoded data removed]",
      "text/plain": [
       "<Figure size 432x288 with 1 Axes>"
      ]
     },
     "metadata": {
      "needs_background": "light"
     },
     "output_type": "display_data"
    }
   ],
   "source": [
    "plt.bar(range(23), pca.explained_variance_ratio_, alpha=0.5, align='edge') \n",
    "plt.step(range(23), np.cumsum(pca.explained_variance_ratio_), where='mid') \n",
    "plt.ylabel('Explained variance ratio')\n",
    "plt.xlabel('Principal components')\n",
    "plt.show() "
   ]
  },
  {
   "cell_type": "code",
   "execution_count": 395,
   "metadata": {},
   "outputs": [],
   "source": [
    "# Only two components for illustration\n",
    "pca = PCA(n_components=2)\n",
    "X_train_pca = pca.fit_transform(X_train_std)\n",
    "X_test_pca = pca.transform(X_test_std)"
   ]
  },
  {
   "cell_type": "code",
   "execution_count": 396,
   "metadata": {},
   "outputs": [
    {
     "data": {
      "image/png": "[encoded data removed]",
      "text/plain": [
       "<Figure size 720x360 with 2 Axes>"
      ]
     },
     "metadata": {
      "needs_background": "light"
     },
     "output_type": "display_data"
    }
   ],
   "source": [
    "plt.rcParams.update({'font.size': 10})\n",
    "fig, axes = plt.subplots(nrows=1, ncols=2, figsize=(10,5))\n",
    "axes = axes.ravel()\n",
    "ax = axes[0]\n",
    "ax.figure\n",
    "inx=(y_train==1)\n",
    "inx=inx.ravel()\n",
    "ax.scatter(X_train_pca[inx,0],X_train_pca[inx,1],marker='s',color='r',label='Y')\n",
    "\n",
    "inx=(y_train==0)\n",
    "inx=inx.ravel() \n",
    "ax.scatter(X_train_pca[inx,0],X_train_pca[inx,1],marker='o',color='g',label='N') \n",
    "ax.set_title(\"Training set\")\n",
    "ax.set_xlabel('PC 1')\n",
    "ax.set_ylabel('PC 2')\n",
    "ax.legend()\n",
    "ax.grid()\n",
    "\n",
    "\n",
    "ax = axes[1]\n",
    "ax.figure\n",
    "inx=(y_test==1)\n",
    "inx=inx.ravel() \n",
    "ax.scatter(X_test_pca[inx,0],X_test_pca[inx,1],marker='s',color='r',label='Y') \n",
    "inx=(y_test==0)\n",
    "inx=inx.ravel() \n",
    "ax.scatter(X_test_pca[inx,0],X_test_pca[inx,1],marker='o',color='g',label='N')\n",
    "\n",
    "ax.set_title(\"Test set: data not used to adapt PCA\")\n",
    "\n",
    "ax.legend()\n",
    "ax.grid()\n",
    "plt.xlabel('PC 1')\n",
    "plt.ylabel('PC 2')\n",
    "plt.show()"
   ]
  },
  {
   "cell_type": "markdown",
   "metadata": {},
   "source": [
    "# Task B"
   ]
  },
  {
   "cell_type": "code",
   "execution_count": 422,
   "metadata": {},
   "outputs": [
    {
     "data": {
      "text/plain": [
       "SVC(C=1.0, cache_size=200, class_weight=None, coef0=0.0,\n",
       "  decision_function_shape='ovr', degree=3, gamma='auto_deprecated',\n",
       "  kernel='rbf', max_iter=1000, probability=False, random_state=None,\n",
       "  shrinking=True, tol=1e-05, verbose=0)"
      ]
     },
     "execution_count": 422,
     "metadata": {},
     "output_type": "execute_result"
    }
   ],
   "source": [
    "#numeric\n",
    "import numpy as np\n",
    "import pandas as pd\n",
    "# graphics\n",
    "%matplotlib inline\n",
    "import matplotlib.pyplot as plt\n",
    "import matplotlib.gridspec as gridspec\n",
    "#\n",
    "#Added version check for recent scikit-learn 0.18 checks from distutils.version import LooseVersion as Version from sklearn import __version__ as sklearn_version ###########\n",
    "from numpy import linalg as LA\n",
    "\n",
    "from matplotlib.colors import ListedColormap\n",
    "def plot_decision_regions(X, y, classifier, resolution=0.02): \n",
    "    # setup marker generator and color map\n",
    "    markers = ('s', 'x', 'o', '^', 'v')\n",
    "    colors = ('red', 'blue', 'lightgreen', 'gray', 'cyan')\n",
    "    cmap = ListedColormap(colors[:len(np.unique(y))])\n",
    "    #plot the decision surface\n",
    "    x1_min, x1_max = X[:, 0].min() - 1, X[:, 0].max() + 1\n",
    "    x2_min, x2_max = X[:, 1].min() - 1, X[:, 1].max() + 1\n",
    "    xx1, xx2 = np.meshgrid(np.arange(x1_min, x1_max, resolution), np.arange(x2_min, x2_max, resolution))\n",
    "    Z = classifier.predict(np.array([xx1.ravel(), xx2.ravel()]).T) \n",
    "    Z = Z.reshape(xx1.shape)\n",
    "    plt.contourf(xx1, xx2, Z, alpha=0.4, cmap=cmap) \n",
    "    plt.xlim(xx1.min(), xx1.max())\n",
    "    plt.ylim(xx2.min(), xx2.max())\n",
    "    # plot class samples\n",
    "    for idx, cl in enumerate(np.unique(y)):\n",
    "        plt.scatter(x=X[y == cl, 0], y=X[y == cl, 1],\n",
    "            alpha=0.8, c=cmap(idx),marker=markers[idx], label=cl)\n",
    "        \n",
    "\n",
    "from sklearn.neural_network import MLPClassifier\n",
    "mlp = MLPClassifier(activation='tanh', hidden_layer_sizes=(10,5),alpha=0.01, max_iter=5000)\n",
    "mlp\n",
    "\n",
    "from sklearn.svm import SVC\n",
    "svm=SVC(C=1.0,kernel='rbf', max_iter=1000, tol=1e-05, verbose=0)\n",
    "svm\n",
    "\n",
    "#from sklearn.tree import DecisionTreeClassifier  \n",
    "#classifier = DecisionTreeClassifier()  \n",
    "\n",
    " "
   ]
  },
  {
   "cell_type": "code",
   "execution_count": null,
   "metadata": {
    "scrolled": true
   },
   "outputs": [],
   "source": [
    "print(X_train_pca)\n",
    "print(y_train)\n",
    "mlp.fit(X_train_pca,y_train)\n",
    "svm.fit(X_train_pca,y_train)\n",
    "#classifier.fit(X_train_pca, y_train)  "
   ]
  },
  {
   "cell_type": "code",
   "execution_count": null,
   "metadata": {
    "scrolled": true
   },
   "outputs": [],
   "source": [
    "print(X_train_pca)\n",
    "print(y_train)\n",
    "\n",
    "#plot_decision_regions(X_train_pca, y_train, classifier=mlp) \n",
    "plot_decision_regions(X_train_pca, y_train, classifier=svm) \n",
    "#plot_decision_regions(X_train_pca, y_train, classifier=classifier) \n",
    "plt.xlabel('x1')\n",
    "plt.ylabel('x2')\n",
    "plt.legend(loc='upper left')\n",
    "plt.grid()\n",
    "plt.tight_layout()\n",
    "plt.show()\n"
   ]
  },
  {
   "cell_type": "code",
   "execution_count": 421,
   "metadata": {},
   "outputs": [
    {
     "name": "stdout",
     "output_type": "stream",
     "text": [
      "the weights are \n",
      " [array([[-0.425, -1.331,  0.76 , -0.257, -0.868,  0.309, -0.529, -0.653,\n",
      "        -0.842, -0.298],\n",
      "       [ 1.067,  1.204,  0.394,  0.294,  1.523, -0.671, -0.53 , -0.65 ,\n",
      "         1.509,  0.137]]), array([[-0.154, -0.086,  1.35 , -0.414,  0.887],\n",
      "       [ 0.524, -0.651,  1.057, -0.546,  0.864],\n",
      "       [-5.032,  0.362,  0.062, -0.056, -0.55 ],\n",
      "       [-0.471,  0.883,  1.082,  0.453,  1.276],\n",
      "       [ 0.145, -0.695,  2.175,  0.076,  2.52 ],\n",
      "       [-0.03 , -0.493, -1.331, -0.271, -1.785],\n",
      "       [ 2.32 ,  0.536, -0.137,  0.317,  0.264],\n",
      "       [ 2.106, -0.439, -0.711,  0.504,  0.133],\n",
      "       [-0.045, -0.382,  2.196,  0.454,  2.731],\n",
      "       [ 1.08 ,  0.718, -0.065, -0.373, -0.791]]), array([[ 3.001],\n",
      "       [-2.49 ],\n",
      "       [-1.151],\n",
      "       [ 0.042],\n",
      "       [-1.654]])]\n",
      "the bias \n",
      "  [array([ 0.229, -0.17 ,  1.678,  0.325,  1.103, -0.404, -1.035, -1.076,\n",
      "        1.   , -1.202]), array([-0.584,  0.015, -0.081,  0.678,  0.755]), array([ 1.308])]\n",
      "number of iterations \n",
      " 144\n",
      "output activation logistic\n"
     ]
    }
   ],
   "source": [
    "print('the weights are \\n',mlp.coefs_) \n",
    "print('the bias \\n ', mlp.intercepts_) \n",
    "print('number of iterations \\n', mlp.n_iter_) \n",
    "print('output activation', mlp.out_activation_)"
   ]
  },
  {
   "cell_type": "markdown",
   "metadata": {},
   "source": [
    "## Adult Dataset"
   ]
  },
  {
   "cell_type": "code",
   "execution_count": 197,
   "metadata": {},
   "outputs": [],
   "source": [
    "#numeric\n",
    "import numpy as np\n",
    "import pandas as pd\n",
    "import xlrd\n",
    "from pandas import DataFrame, read_csv\n",
    "# graphics\n",
    "%matplotlib inline \n",
    "import matplotlib.pyplot as plt \n",
    "import matplotlib.gridspec as gridspec\n",
    "#Disable warning\n",
    "import warnings\n",
    "warnings.filterwarnings(\"ignore\", category=FutureWarning)\n",
    "warnings.filterwarnings(\"ignore\", category=DeprecationWarning)\n",
    "from sklearn.exceptions import DataConversionWarning\n",
    "warnings.filterwarnings(action='ignore', category=DataConversionWarning)\n",
    "# Added version check for recent scikit-learn 0.18 checks\n",
    "from distutils.version import LooseVersion as Version\n",
    "from sklearn import __version__ as sklearn_version"
   ]
  },
  {
   "cell_type": "markdown",
   "metadata": {},
   "source": [
    "\n",
    "### Build table\n",
    "\n",
    "\n"
   ]
  },
  {
   "cell_type": "code",
   "execution_count": 198,
   "metadata": {
    "scrolled": true
   },
   "outputs": [
    {
     "name": "stdout",
     "output_type": "stream",
     "text": [
      "<class 'pandas.core.frame.DataFrame'>\n",
      "RangeIndex: 32561 entries, 0 to 32560\n",
      "Data columns (total 15 columns):\n",
      "age                  32561 non-null int64\n",
      "workclass            32561 non-null object\n",
      "fnlwgt               32561 non-null int64\n",
      "education            32561 non-null object\n",
      "education-num        32561 non-null int64\n",
      "marital-status       32561 non-null object\n",
      "occupation           32561 non-null object\n",
      "relationship         32561 non-null object\n",
      "race                 32561 non-null object\n",
      "sex                  32561 non-null object\n",
      "capital-gain         32561 non-null int64\n",
      "capital-loss         32561 non-null int64\n",
      "hours-per-week       32561 non-null int64\n",
      "native-country       32561 non-null object\n",
      "probability-label    32561 non-null object\n",
      "dtypes: int64(6), object(9)\n",
      "memory usage: 3.7+ MB\n"
     ]
    }
   ],
   "source": [
    "#df = data\n",
    "data = pd.read_csv('adult.data.txt', delimiter=\", \", header=None, engine='python')\n",
    "#dar nomes às colunas\n",
    "data.columns = [\"age\", \"workclass\", \"fnlwgt\", \"education\", \"education-num\", \\\n",
    "                \"marital-status\" ,\"occupation\", \"relationship\", \"race\", \"sex\" ,\\\n",
    "                \"capital-gain\", \"capital-loss\", \"hours-per-week\", \"native-country\", \\\n",
    "                \"probability-label\"]\n",
    "\n",
    "#show all features\n",
    "data.info()"
   ]
  },
  {
   "cell_type": "markdown",
   "metadata": {},
   "source": [
    "### Mapping categorical data into numeric data\n"
   ]
  },
  {
   "cell_type": "code",
   "execution_count": 199,
   "metadata": {},
   "outputs": [],
   "source": [
    "workclass_map = {'Private': 1,'Self-emp-not-inc': 2,'Self-emp-inc': 3,'Federal-gov': 4,'Local-gov': 5,\n",
    "                               'State-gov': 6,'Without-pay': 7,'Never-worked': 8}\n",
    "\n",
    "education_map = {'Bachelors': 1,'Some-college': 2,'11th': 3,'HS-grad': 4,'Prof-school': 5,\n",
    "                                 'Assoc-acdm': 6,'Assoc-voc': 7,'9th': 8,'7th-8th': 9,'12th': 10,'Masters': 11,\n",
    "                                 '1st-4th': 12,'10th': 13,'Doctorate': 14,'5th-6th': 15,'Preschool': 16}\n",
    "\n",
    "marital_map = {'Married-civ-spouse': 1,'Divorced': 2,'Never-married': 3,'Separated': 4,\n",
    "                                   'Widowed': 5,'Married-spouse-absent': 6,'Married-AF-spouse': 7}\n",
    "\n",
    "occupation_map = {'Tech-support': 1,'Craft-repair': 2,'Other-service': 3,'Sales': 4,\n",
    "                                'Exec-managerial': 5,'Prof-specialty': 6,'Handlers-cleaners': 7,\n",
    "                                'Machine-op-inspct': 8,'Adm-clerical': 9,'Farming-fishing': 10,\n",
    "                                'Transport-moving': 11,'Priv-house-serv': 12,'Protective-serv': 13,\n",
    "                                'Armed-Forces': 14}\n",
    "\n",
    "relationship_map = {'Wife': 1,'Own-child': 2,'Husband': 3,'Not-in-family': 4,\n",
    "                                      'Other-relative': 5,'Unmarried': 6}\n",
    "\n",
    "race_map = {'White': 1,'Asian-Pac-Islander': 2,'Amer-Indian-Eskimo': 3,'Other': 4,'Black': 5}\n",
    "\n",
    "sex_map = {'Female': 1,'Male': 2}\n",
    "\n",
    "country_map = {'United-States': 1,'Cambodia': 2,'England': 3,'Puerto-Rico': 4,\n",
    "                                   'Canada': 5,'Germany': 6,'Outlying-US(Guam-USVI-etc)': 7,'India': 8,\n",
    "                                   'Japan': 9,'Greece': 10,'South': 11,'China': 12,'Cuba': 13,'Iran': 14,\n",
    "                                   'Honduras': 15,'Philippines': 16,'Italy': 17,'Poland': 18,'Jamaica': 19,\n",
    "                                   'Vietnam': 20,'Mexico': 21,'Portugal': 22,'Ireland': 23,'France': 24,\n",
    "                                   'Dominican-Republic': 25,'Laos': 26,'Ecuador': 27,'Taiwan': 28,'Haiti': 29,\n",
    "                                   'Columbia': 30,'Hungary': 31,'Guatemala': 32,'Nicaragua': 33,'Scotland': 34,\n",
    "                                   'Thailand': 35,'Yugoslavia': 36,'El-Salvador': 37,'Trinadad&Tobago': 38,\n",
    "                                   'Peru': 39,'Hong': 40,'Holand-Netherlands': 41}\n",
    "\n",
    "probability_map = {'<=50K': 1, '>50K' : 2}\n",
    "\n",
    "data['workclass'] = data['workclass'].map(workclass_map)\n",
    "data['education'] = data['education'].map(education_map)\n",
    "data['marital-status'] = data['marital-status'].map(marital_map)\n",
    "data['occupation'] = data['occupation'].map(occupation_map)\n",
    "data['relationship'] = data['relationship'].map(relationship_map)\n",
    "data['race'] = data['race'].map(race_map)\n",
    "data['sex'] = data['sex'].map(sex_map)\n",
    "data['native-country'] = data['native-country'].map(country_map)\n",
    "data['probability-label'] = data['probability-label'].map(probability_map)"
   ]
  },
  {
   "cell_type": "code",
   "execution_count": 200,
   "metadata": {
    "scrolled": true
   },
   "outputs": [],
   "source": [
    "#Drop rows with NaN\n",
    "#data.dropna(thresh=16)\n",
    "\n",
    "data = data.dropna(how=\"any\")\n",
    "\n",
    "#data = data[data.age != '?']"
   ]
  },
  {
   "cell_type": "markdown",
   "metadata": {},
   "source": [
    "### Rank features (Univariate Feature Selection)"
   ]
  },
  {
   "cell_type": "code",
   "execution_count": 201,
   "metadata": {
    "scrolled": true
   },
   "outputs": [
    {
     "name": "stdout",
     "output_type": "stream",
     "text": [
      "Scores of each feature: \n",
      "[  7.928e+03   2.723e+02   1.423e+05   7.424e+00   2.178e+03   2.888e+03\n",
      "   9.492e+01   4.313e+02   2.759e+02   1.852e+02   7.413e+07   1.256e+06\n",
      "   5.569e+03   1.349e+03   4.515e+03]\n",
      "\n",
      "Selected features: \n",
      "[[  3.900e+01   7.752e+04   2.174e+03   0.000e+00]\n",
      " [  5.000e+01   8.331e+04   0.000e+00   0.000e+00]\n",
      " [  3.800e+01   2.156e+05   0.000e+00   0.000e+00]\n",
      " ..., \n",
      " [  5.800e+01   1.519e+05   0.000e+00   0.000e+00]\n",
      " [  2.200e+01   2.015e+05   0.000e+00   0.000e+00]\n",
      " [  5.200e+01   2.879e+05   1.502e+04   0.000e+00]]\n"
     ]
    }
   ],
   "source": [
    "from sklearn.feature_selection import SelectKBest\n",
    "from sklearn.feature_selection import chi2, mutual_info_classif\n",
    "import numpy\n",
    "\n",
    "array = data.values\n",
    "\n",
    "X2 = array[:,0:15]\n",
    "Y2 = array[:,14]\n",
    "\n",
    "#print(X2)\n",
    "#print(\"\\n\")\n",
    "#print(Y2)\n",
    "#feature extraction\n",
    "#k=Number of top features to select\n",
    "test = SelectKBest(score_func=chi2, k=4)\n",
    "fit = test.fit(X2, Y2)\n",
    "\n",
    "# print summarized scores\n",
    "numpy.set_printoptions(precision=3)\n",
    "print(\"Scores of each feature: \")\n",
    "print(fit.scores_)\n",
    "\n",
    "features = fit.transform(X2)\n",
    "\n",
    "# print the selected features (age,fnlwgt,capital-gain,capital-loss(?))\n",
    "print(\"\\nSelected features: \")\n",
    "print(features)\n",
    "#print(features[0:5,:])\n"
   ]
  },
  {
   "cell_type": "markdown",
   "metadata": {},
   "source": [
    "\n"
   ]
  },
  {
   "cell_type": "markdown",
   "metadata": {},
   "source": [
    "### Perform dimension reduction (PCA)"
   ]
  },
  {
   "cell_type": "code",
   "execution_count": 202,
   "metadata": {},
   "outputs": [],
   "source": [
    "from distutils.version import LooseVersion as Version\n",
    "from sklearn import __version__ as sklearn_version\n",
    "from sklearn.decomposition import PCA\n",
    "from sklearn.preprocessing import StandardScaler\n",
    "if Version(sklearn_version) < '0.18':\n",
    "    from sklearn.cross_validation import train_test_split\n",
    "else:\n",
    "    from sklearn.model_selection import train_test_split"
   ]
  },
  {
   "cell_type": "markdown",
   "metadata": {},
   "source": [
    "#### Prepare data for classification task"
   ]
  },
  {
   "cell_type": "code",
   "execution_count": 383,
   "metadata": {},
   "outputs": [
    {
     "name": "stdout",
     "output_type": "stream",
     "text": [
      "(30162, 15)\n",
      "[ 1.  1.  1. ...,  1.  2.  1.]\n"
     ]
    }
   ],
   "source": [
    "print(X2.shape)\n",
    "\n",
    "X_train, X_test, y_train, y_test = \\\n",
    "    train_test_split(X2, Y2, test_size=0.3, random_state=0)\n",
    "print(y_train)"
   ]
  },
  {
   "cell_type": "markdown",
   "metadata": {},
   "source": [
    "#### Standardize the data"
   ]
  },
  {
   "cell_type": "code",
   "execution_count": 204,
   "metadata": {},
   "outputs": [],
   "source": [
    "sc = StandardScaler()\n",
    "X_train_std = sc.fit_transform(X_train)\n",
    "X_test_std = sc.transform(X_test)"
   ]
  },
  {
   "cell_type": "markdown",
   "metadata": {},
   "source": [
    "#### Applying PCA"
   ]
  },
  {
   "cell_type": "code",
   "execution_count": 205,
   "metadata": {},
   "outputs": [
    {
     "data": {
      "text/plain": [
       "array([ 0.154,  0.095,  0.09 ,  0.074,  0.073,  0.068,  0.067,  0.061,\n",
       "        0.058,  0.056,  0.053,  0.047,  0.041,  0.033,  0.03 ])"
      ]
     },
     "execution_count": 205,
     "metadata": {},
     "output_type": "execute_result"
    }
   ],
   "source": [
    "pca = PCA()\n",
    "principalComponents = pca.fit_transform(X_train_std)\n",
    "principalComponentsTest = pca.transform(X_test_std)\n",
    "\n",
    "pca.explained_variance_ratio_\n",
    "\n",
    "#print(principalComponents) #316695\n",
    "#create new \n",
    "#data_new = pd.DataFrame(data = principalComponents,columns = ['principal component 1', 'principal component 2'])\n",
    "\n",
    "#data_new = pd.concat([data_new, data[['probability-label']]], axis = 1)\n",
    "\n",
    "#plt.bar(range(14), pca.explained_variance_ratio_, alpha=0.5, align='center')\n",
    "#plt.step(range(14), np.cumsum(pca.explained_variance_ratio_), where='mid')\n",
    "#plt.ylabel('Explained variance ratio')\n",
    "#plt.xlabel('Principal components')\n",
    "#plt.show()"
   ]
  },
  {
   "cell_type": "markdown",
   "metadata": {},
   "source": [
    "#### Computing plots"
   ]
  },
  {
   "cell_type": "code",
   "execution_count": 206,
   "metadata": {},
   "outputs": [
    {
     "data": {
      "image/png": "[encoded data removed]",
      "text/plain": [
       "<Figure size 720x360 with 2 Axes>"
      ]
     },
     "metadata": {
      "needs_background": "light"
     },
     "output_type": "display_data"
    }
   ],
   "source": [
    "#label A = above 50K\n",
    "#label B = below 50K\n",
    "plt.rcParams.update({'font.size': 10})\n",
    "fig, axes = plt.subplots(nrows=1, ncols=2, figsize=(10,5))\n",
    "\n",
    "axes = axes.ravel()  \n",
    "\n",
    "ax = axes[0]\n",
    "ax.figure\n",
    "inx=(y_train==1)\n",
    "inx=inx.ravel()\n",
    "ax.scatter(principalComponents[inx,0],principalComponents[inx,1],marker='s',color='g',label='A')\n",
    "inx=(y_train==2)\n",
    "inx=inx.ravel()\n",
    "ax.scatter(principalComponents[inx,0],principalComponents[inx,1],marker='o',color='b',label='B')    \n",
    "ax.set_title(\"Training set\")\n",
    "ax.set_xlabel('principal_component_1')\n",
    "ax.set_ylabel('principal_component_2')\n",
    "ax.legend()\n",
    "ax.grid()\n",
    "#plt.show()\n",
    " \n",
    "ax = axes[1]\n",
    "ax.figure\n",
    "inx=(y_test==1)\n",
    "inx=inx.ravel()\n",
    "ax.scatter(principalComponentsTest[inx,0],principalComponentsTest[inx,1],marker='s',color='g',label='A')  \n",
    "inx=(y_test==2)\n",
    "inx=inx.ravel()\n",
    "ax.scatter(principalComponentsTest[inx,0],principalComponentsTest[inx,1],marker='o',color='b',label='B')\n",
    "ax.set_title(\"Test set: data not used to adapt PCA\")    \n",
    "ax.legend() \n",
    "ax.grid()\n",
    "plt.xlabel('principal_component_1')\n",
    "plt.ylabel('principal_component_2')\n",
    "plt.show()"
   ]
  },
  {
   "cell_type": "code",
   "execution_count": null,
   "metadata": {},
   "outputs": [],
   "source": []
  }
 ],
 "metadata": {
  "kernelspec": {
   "display_name": "Python 3",
   "language": "python",
   "name": "python3"
  },
  "language_info": {
   "codemirror_mode": {
    "name": "ipython",
    "version": 3
   },
   "file_extension": ".py",
   "mimetype": "text/x-python",
   "name": "python",
   "nbconvert_exporter": "python",
   "pygments_lexer": "ipython3",
   "version": "3.6.5"
  }
 },
 "nbformat": 4,
 "nbformat_minor": 2
}
